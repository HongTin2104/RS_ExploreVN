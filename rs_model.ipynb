{
 "cells": [
  {
   "cell_type": "code",
   "execution_count": 23,
   "metadata": {},
   "outputs": [
    {
     "name": "stdout",
     "output_type": "stream",
     "text": [
      "          Tên địa điểm                                      Mô tả\n",
      "0         Vịnh Hạ Long     Kỳ quan thiên nhiên nổi tiếng thế giới\n",
      "1         Chùa Một Cột       Ngôi chùa độc đáo có lịch sử lâu đời\n",
      "2  Phong Nha - Kẻ Bàng  Vườn quốc gia với các hang động nổi tiếng\n",
      "3             Chùa Dơi          Ngôi chùa có nhiều dơi và lâu đời\n",
      "4               Đà Lạt      Thành phố ngàn hoa với khí hậu mát mẻ\n"
     ]
    }
   ],
   "source": [
    "from underthesea import word_tokenize\n",
    "import pandas as pd\n",
    "import openpyxl\n",
    "# Đọc file Excel\n",
    "file_path = \"data.xlsx\"\n",
    "df = pd.read_excel(file_path)\n",
    "\n",
    "# Hiển thị dữ liệu\n",
    "print(df[['Tên địa điểm', 'Mô tả']])"
   ]
  },
  {
   "cell_type": "code",
   "execution_count": 24,
   "metadata": {},
   "outputs": [
    {
     "name": "stdout",
     "output_type": "stream",
     "text": [
      "Danh sách Vietnamese Stopwords:\n",
      "[]\n"
     ]
    }
   ],
   "source": [
    "from underthesea import word_tokenize\n",
    "import pandas as pd\n",
    "from collections import Counter\n",
    "\n",
    "# Đọc file Excel\n",
    "file_path = \"data.xlsx\"\n",
    "df = pd.read_excel(file_path)\n",
    "\n",
    "# Bước 1: Tách từ trong cột \"Mô tả\"\n",
    "all_words = []\n",
    "for description in df['Mô tả']:\n",
    "    # Tokenize mỗi câu mô tả và thêm vào danh sách\n",
    "    words = word_tokenize(str(description), format='text').split()\n",
    "    all_words.extend(words)\n",
    "\n",
    "# Bước 2: Đếm tần suất xuất hiện của từng từ\n",
    "word_freq = Counter(all_words)\n",
    "\n",
    "# Bước 3: Tạo danh sách stop words dựa trên tần suất\n",
    "# Chọn các từ xuất hiện quá nhiều lần làm stop words (ví dụ: tần suất > 10)\n",
    "vietnamese_stopwords = [word for word, freq in word_freq.items() if freq > 10]\n",
    "\n",
    "# Hiển thị danh sách stop words\n",
    "print(\"Danh sách Vietnamese Stopwords:\")\n",
    "print(vietnamese_stopwords)\n"
   ]
  },
  {
   "cell_type": "code",
   "execution_count": 25,
   "metadata": {},
   "outputs": [
    {
     "name": "stdout",
     "output_type": "stream",
     "text": [
      "          Tên địa điểm                             Mô tả sau tách\n",
      "0         Vịnh Hạ Long     Kỳ_quan thiên_nhiên nổi_tiếng thế_giới\n",
      "1         Chùa Một Cột       Ngôi chùa độc_đáo có lịch_sử lâu_đời\n",
      "2  Phong Nha - Kẻ Bàng  Vườn_quốc_gia với các hang_động nổi_tiếng\n",
      "3             Chùa Dơi          Ngôi chùa có nhiều dơi và lâu_đời\n",
      "4               Đà Lạt      Thành_phố ngàn hoa với khí_hậu mát_mẻ\n"
     ]
    }
   ],
   "source": [
    "# Hàm tách từ và loại bỏ stop words\n",
    "def preprocess_text(text):\n",
    "    # Tách từ\n",
    "    tokens = word_tokenize(text, format=\"text\").split()\n",
    "    # Loại bỏ stop words\n",
    "    tokens = [word for word in tokens if word.lower() not in vietnamese_stopwords]\n",
    "    return ' '.join(tokens)\n",
    "\n",
    "# Áp dụng tiền xử lý lên từng mô tả sách\n",
    "df['Mô tả sau tách'] = df['Mô tả'].apply(preprocess_text)\n",
    "print(df[['Tên địa điểm', 'Mô tả sau tách']])"
   ]
  },
  {
   "cell_type": "code",
   "execution_count": 26,
   "metadata": {},
   "outputs": [
    {
     "name": "stdout",
     "output_type": "stream",
     "text": [
      "TF-IDF Matrix shape: (5, 22)\n"
     ]
    }
   ],
   "source": [
    "from sklearn.feature_extraction.text import TfidfVectorizer\n",
    "\n",
    "# Tạo TF-IDF matrix từ mô tả đã được xử lý\n",
    "tfidf = TfidfVectorizer()\n",
    "tfidf_matrix = tfidf.fit_transform(df['Mô tả sau tách'])\n",
    "\n",
    "# Kiểm tra ma trận TF-IDF\n",
    "print(\"TF-IDF Matrix shape:\", tfidf_matrix.shape)"
   ]
  },
  {
   "cell_type": "code",
   "execution_count": 27,
   "metadata": {},
   "outputs": [],
   "source": [
    "from sklearn.metrics.pairwise import cosine_similarity\n",
    "\n",
    "# Tính độ tương tự cosine giữa các sách\n",
    "place_similarity = cosine_similarity(tfidf_matrix, tfidf_matrix)\n",
    "\n",
    "# Hàm gợi ý sách\n",
    "def recommend_books(place_title, df, similarity_matrix, num_recommendations=3):\n",
    "    # Tìm chỉ số của sách trong DataFrame\n",
    "    book_idx = df[df['Tên địa điểm'] == place_title].index[0]\n",
    "\n",
    "    # Tính toán độ tương tự giữa sách này và các sách khác\n",
    "    similarity_scores = list(enumerate(similarity_matrix[book_idx]))\n",
    "\n",
    "    # Sắp xếp các sách theo điểm tương tự, loại bỏ sách đã chọn\n",
    "    similarity_scores = sorted(similarity_scores, key=lambda x: x[1], reverse=True)\n",
    "\n",
    "    # Lấy danh sách sách gợi ý (trừ sách đã chọn)\n",
    "    recommended_books_indices = [i[0] for i in similarity_scores[1:num_recommendations+1]]\n",
    "\n",
    "    # Trả về tên các sách gợi ý\n",
    "    return df['Tên địa điểm'].iloc[recommended_books_indices]\n",
    "\n"
   ]
  },
  {
   "cell_type": "code",
   "execution_count": 28,
   "metadata": {},
   "outputs": [
    {
     "name": "stdout",
     "output_type": "stream",
     "text": [
      "Recommended place: \n",
      " 3               Chùa Dơi\n",
      "0           Vịnh Hạ Long\n",
      "2    Phong Nha - Kẻ Bàng\n",
      "Name: Tên địa điểm, dtype: object\n"
     ]
    }
   ],
   "source": [
    "recommendations = recommend_books(\"Chùa Một Cột\", df, place_similarity, num_recommendations=3)\n",
    "print(\"Recommended place: \\n\", recommendations)\n"
   ]
  },
  {
   "cell_type": "code",
   "execution_count": null,
   "metadata": {},
   "outputs": [],
   "source": []
  }
 ],
 "metadata": {
  "kernelspec": {
   "display_name": "Python 3",
   "language": "python",
   "name": "python3"
  },
  "language_info": {
   "codemirror_mode": {
    "name": "ipython",
    "version": 3
   },
   "file_extension": ".py",
   "mimetype": "text/x-python",
   "name": "python",
   "nbconvert_exporter": "python",
   "pygments_lexer": "ipython3",
   "version": "3.10.8"
  }
 },
 "nbformat": 4,
 "nbformat_minor": 2
}
